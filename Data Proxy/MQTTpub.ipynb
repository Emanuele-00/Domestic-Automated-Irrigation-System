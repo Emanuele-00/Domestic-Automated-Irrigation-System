{
 "cells": [
  {
   "cell_type": "code",
   "execution_count": null,
   "id": "60a8e8ec-383c-4939-bb9a-1a4c1f8b97da",
   "metadata": {},
   "outputs": [],
   "source": [
    "import paho.mqtt.client as mqtt\n",
    "import telebot\n",
    "RED = '\\033[91m'\n",
    "GREEN = '\\033[92m'\n",
    "BLUE = '\\033[94m'\n",
    "YELLOW = '\\033[93m'\n",
    "RESET = '\\033[0m'\n",
    "\n",
    "broker = '192.168.1.9'\n",
    "port = 1883\n",
    "topic = \"sens1/sleep_time\"\n",
    "msg = '1800'\n",
    "client_id = 'EMA'\n",
    "username = 'proxy'\n",
    "password = 'emanuele'\n",
    "\n",
    "def on_connect(client, userdata, flags, reason_code, properties):\n",
    "    if reason_code == 0:\n",
    "        print(f\"\\n{GREEN}Connected{RESET} to MQTT Broker!\\n\")\n",
    "    else:\n",
    "        print(f\"\\n{RED}FAILED{RESET} to connect, return code:\\n{reason_code}\\n\")\n",
    "\n",
    "client = mqtt.Client(client_id= client_id, callback_api_version=mqtt.CallbackAPIVersion.VERSION2)\n",
    "client.username_pw_set(username, password)\n",
    "client.on_connect = on_connect\n",
    "\n",
    "try: \n",
    "    client.connect(broker, port)\n",
    "except Exception as mqtt_error:\n",
    "    print(f'{RED}ERROR{RESET}: {mqtt_error}')\n",
    "else:\n",
    "    print(f'{GREEN}CONNECTED to the Broker{RESET}')\n",
    "    client.loop_start()\n",
    "    result = client.publish(topic, msg, qos = 0, retain= True)\n",
    "    status = result[0]\n",
    "    if status == 0:\n",
    "        print(f\"{GREEN}{msg}{RESET} on topic {BLUE}{topic}{RESET}\")\n",
    "    else:\n",
    "        print(f\"{RED}FAILED{RESET} to send message to topic {BLUE}{topic}{RESET}\")\n",
    "    client.loop_stop()"
   ]
  }
 ],
 "metadata": {
  "kernelspec": {
   "display_name": "Python 3 (ipykernel)",
   "language": "python",
   "name": "python3"
  },
  "language_info": {
   "codemirror_mode": {
    "name": "ipython",
    "version": 3
   },
   "file_extension": ".py",
   "mimetype": "text/x-python",
   "name": "python",
   "nbconvert_exporter": "python",
   "pygments_lexer": "ipython3",
   "version": "3.8.19"
  }
 },
 "nbformat": 4,
 "nbformat_minor": 5
}
